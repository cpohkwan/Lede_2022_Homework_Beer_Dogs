{
 "cells": [
  {
   "cell_type": "markdown",
   "metadata": {
    "collapsed": true
   },
   "source": [
    "# Homework 7, Part One: Lots and lots of questions about beer"
   ]
  },
  {
   "cell_type": "markdown",
   "metadata": {},
   "source": [
    "### Do your importing and your setup"
   ]
  },
  {
   "cell_type": "code",
   "execution_count": 1,
   "metadata": {},
   "outputs": [],
   "source": [
    "import pandas as pd"
   ]
  },
  {
   "cell_type": "markdown",
   "metadata": {},
   "source": [
    "## Read in the file `craftcans.csv`, and look at the first first rows"
   ]
  },
  {
   "cell_type": "code",
   "execution_count": 2,
   "metadata": {},
   "outputs": [
    {
     "data": {
      "text/html": [
       "<div>\n",
       "<style scoped>\n",
       "    .dataframe tbody tr th:only-of-type {\n",
       "        vertical-align: middle;\n",
       "    }\n",
       "\n",
       "    .dataframe tbody tr th {\n",
       "        vertical-align: top;\n",
       "    }\n",
       "\n",
       "    .dataframe thead th {\n",
       "        text-align: right;\n",
       "    }\n",
       "</style>\n",
       "<table border=\"1\" class=\"dataframe\">\n",
       "  <thead>\n",
       "    <tr style=\"text-align: right;\">\n",
       "      <th></th>\n",
       "      <th>Beer</th>\n",
       "      <th>Brewery</th>\n",
       "      <th>Location</th>\n",
       "      <th>Style</th>\n",
       "      <th>Size</th>\n",
       "      <th>ABV</th>\n",
       "      <th>IBUs</th>\n",
       "    </tr>\n",
       "  </thead>\n",
       "  <tbody>\n",
       "    <tr>\n",
       "      <th>0</th>\n",
       "      <td>Get Together</td>\n",
       "      <td>NorthGate Brewing</td>\n",
       "      <td>Minneapolis, MN</td>\n",
       "      <td>American IPA</td>\n",
       "      <td>16 oz.</td>\n",
       "      <td>4.50%</td>\n",
       "      <td>50.0</td>\n",
       "    </tr>\n",
       "    <tr>\n",
       "      <th>1</th>\n",
       "      <td>Maggie's Leap</td>\n",
       "      <td>NorthGate Brewing</td>\n",
       "      <td>Minneapolis, MN</td>\n",
       "      <td>Milk / Sweet Stout</td>\n",
       "      <td>16 oz.</td>\n",
       "      <td>4.90%</td>\n",
       "      <td>26.0</td>\n",
       "    </tr>\n",
       "    <tr>\n",
       "      <th>2</th>\n",
       "      <td>Wall's End</td>\n",
       "      <td>NorthGate Brewing</td>\n",
       "      <td>Minneapolis, MN</td>\n",
       "      <td>English Brown Ale</td>\n",
       "      <td>16 oz.</td>\n",
       "      <td>4.80%</td>\n",
       "      <td>19.0</td>\n",
       "    </tr>\n",
       "    <tr>\n",
       "      <th>3</th>\n",
       "      <td>Pumpion</td>\n",
       "      <td>NorthGate Brewing</td>\n",
       "      <td>Minneapolis, MN</td>\n",
       "      <td>Pumpkin Ale</td>\n",
       "      <td>16 oz.</td>\n",
       "      <td>6.00%</td>\n",
       "      <td>38.0</td>\n",
       "    </tr>\n",
       "    <tr>\n",
       "      <th>4</th>\n",
       "      <td>Stronghold</td>\n",
       "      <td>NorthGate Brewing</td>\n",
       "      <td>Minneapolis, MN</td>\n",
       "      <td>American Porter</td>\n",
       "      <td>16 oz.</td>\n",
       "      <td>6.00%</td>\n",
       "      <td>25.0</td>\n",
       "    </tr>\n",
       "  </tbody>\n",
       "</table>\n",
       "</div>"
      ],
      "text/plain": [
       "            Beer            Brewery         Location               Style  \\\n",
       "0   Get Together  NorthGate Brewing  Minneapolis, MN        American IPA   \n",
       "1  Maggie's Leap  NorthGate Brewing  Minneapolis, MN  Milk / Sweet Stout   \n",
       "2     Wall's End  NorthGate Brewing  Minneapolis, MN   English Brown Ale   \n",
       "3        Pumpion  NorthGate Brewing  Minneapolis, MN         Pumpkin Ale   \n",
       "4     Stronghold  NorthGate Brewing  Minneapolis, MN     American Porter   \n",
       "\n",
       "     Size    ABV  IBUs  \n",
       "0  16 oz.  4.50%  50.0  \n",
       "1  16 oz.  4.90%  26.0  \n",
       "2  16 oz.  4.80%  19.0  \n",
       "3  16 oz.  6.00%  38.0  \n",
       "4  16 oz.  6.00%  25.0  "
      ]
     },
     "execution_count": 2,
     "metadata": {},
     "output_type": "execute_result"
    }
   ],
   "source": [
    "df = pd.read_csv(\"craftcans.csv\", na_values=\"Does not apply\")\n",
    "df.head()"
   ]
  },
  {
   "cell_type": "markdown",
   "metadata": {},
   "source": [
    "## How many rows do you have in the data? What are the column types?"
   ]
  },
  {
   "cell_type": "code",
   "execution_count": 3,
   "metadata": {},
   "outputs": [
    {
     "data": {
      "text/plain": [
       "(2416, 7)"
      ]
     },
     "execution_count": 3,
     "metadata": {},
     "output_type": "execute_result"
    }
   ],
   "source": [
    "df.shape"
   ]
  },
  {
   "cell_type": "markdown",
   "metadata": {},
   "source": [
    "There are 2,416 rows."
   ]
  },
  {
   "cell_type": "code",
   "execution_count": 4,
   "metadata": {},
   "outputs": [
    {
     "data": {
      "text/plain": [
       "Beer         object\n",
       "Brewery      object\n",
       "Location     object\n",
       "Style        object\n",
       "Size         object\n",
       "ABV          object\n",
       "IBUs        float64\n",
       "dtype: object"
      ]
     },
     "execution_count": 4,
     "metadata": {},
     "output_type": "execute_result"
    }
   ],
   "source": [
    "df.dtypes"
   ]
  },
  {
   "cell_type": "markdown",
   "metadata": {},
   "source": [
    "# Checking out our alcohol"
   ]
  },
  {
   "cell_type": "markdown",
   "metadata": {},
   "source": [
    "## What are the top 10 producers of cans of beer?"
   ]
  },
  {
   "cell_type": "code",
   "execution_count": 5,
   "metadata": {},
   "outputs": [
    {
     "data": {
      "text/plain": [
       "Brewery Vivant                62\n",
       "Oskar Blues Brewery           46\n",
       "Sun King Brewing Company      38\n",
       "Cigar City Brewing Company    25\n",
       "Sixpoint Craft Ales           24\n",
       "Hopworks Urban Brewery        23\n",
       "Stevens Point Brewery         22\n",
       "Great Crescent Brewery        20\n",
       "21st Amendment Brewery        20\n",
       "Bonfire Brewing Company       19\n",
       "Name: Brewery, dtype: int64"
      ]
     },
     "execution_count": 5,
     "metadata": {},
     "output_type": "execute_result"
    }
   ],
   "source": [
    "df.Brewery.value_counts().head(10)"
   ]
  },
  {
   "cell_type": "markdown",
   "metadata": {},
   "source": [
    "## What is the most common ABV? (alcohol by volume)"
   ]
  },
  {
   "cell_type": "code",
   "execution_count": 6,
   "metadata": {},
   "outputs": [
    {
     "data": {
      "text/plain": [
       "5.00%    215\n",
       "Name: ABV, dtype: int64"
      ]
     },
     "execution_count": 6,
     "metadata": {},
     "output_type": "execute_result"
    }
   ],
   "source": [
    "df.ABV.value_counts().sort_values(ascending = False).head(1)"
   ]
  },
  {
   "cell_type": "markdown",
   "metadata": {},
   "source": [
    "## Oh, weird, ABV isn't a number. Convert it to a number for me, please.\n",
    "\n",
    "It's going to take a few steps!\n",
    "\n",
    "### First, let's just look at the ABV column by itself"
   ]
  },
  {
   "cell_type": "code",
   "execution_count": 7,
   "metadata": {},
   "outputs": [
    {
     "data": {
      "text/plain": [
       "0       4.50%\n",
       "1       4.90%\n",
       "2       4.80%\n",
       "3       6.00%\n",
       "4       6.00%\n",
       "        ...  \n",
       "2411    5.30%\n",
       "2412    9.90%\n",
       "2413    8.00%\n",
       "2414    8.70%\n",
       "2415    6.50%\n",
       "Name: ABV, Length: 2416, dtype: object"
      ]
     },
     "execution_count": 7,
     "metadata": {},
     "output_type": "execute_result"
    }
   ],
   "source": [
    "df[\"ABV\"]"
   ]
  },
  {
   "cell_type": "markdown",
   "metadata": {},
   "source": [
    "### Hm, `%` isn't part of  a number. Let's remove it.\n",
    "\n",
    "When you're confident you got it right, save the results back into the `ABV` column.\n",
    "\n",
    "- *Tip: In programming the easiest way to remove something is to *replacing it with nothing*.\n",
    "- *Tip: \"nothing\" might seem like `NaN` sinc we talked about it a lot in class, but in this case it isn't! It's just an empty string, like \"\"*\n",
    "- *Tip: `.replace` is usually used for replacing ENTIRE cells, while `.str.replace` is useful for replacing PARTS of cells*"
   ]
  },
  {
   "cell_type": "code",
   "execution_count": 8,
   "metadata": {
    "scrolled": true
   },
   "outputs": [
    {
     "data": {
      "text/plain": [
       "0       4.50\n",
       "1       4.90\n",
       "2       4.80\n",
       "3       6.00\n",
       "4       6.00\n",
       "        ... \n",
       "2411    5.30\n",
       "2412    9.90\n",
       "2413    8.00\n",
       "2414    8.70\n",
       "2415    6.50\n",
       "Name: ABV, Length: 2416, dtype: object"
      ]
     },
     "execution_count": 8,
     "metadata": {},
     "output_type": "execute_result"
    }
   ],
   "source": [
    "df.ABV.str.replace(\"%\", \"\")"
   ]
  },
  {
   "cell_type": "markdown",
   "metadata": {},
   "source": [
    "### Now let's turn `ABV` into a numeric data type\n",
    "\n",
    "Save the results back into the `ABV` column (again), and then check `df.dtypes` to make sure it worked.\n",
    "\n",
    "- *Tip: We used `.astype(int)` during class, but this has a decimal in it...*"
   ]
  },
  {
   "cell_type": "code",
   "execution_count": 9,
   "metadata": {},
   "outputs": [],
   "source": [
    "df[\"ABV\"] = df.ABV.str.replace(\"%\", \"\")"
   ]
  },
  {
   "cell_type": "code",
   "execution_count": 10,
   "metadata": {
    "scrolled": false
   },
   "outputs": [],
   "source": [
    "df[\"ABV\"] = df.ABV.astype(float)"
   ]
  },
  {
   "cell_type": "code",
   "execution_count": 11,
   "metadata": {},
   "outputs": [
    {
     "data": {
      "text/plain": [
       "Beer         object\n",
       "Brewery      object\n",
       "Location     object\n",
       "Style        object\n",
       "Size         object\n",
       "ABV         float64\n",
       "IBUs        float64\n",
       "dtype: object"
      ]
     },
     "execution_count": 11,
     "metadata": {},
     "output_type": "execute_result"
    }
   ],
   "source": [
    "df.dtypes"
   ]
  },
  {
   "cell_type": "markdown",
   "metadata": {},
   "source": [
    "## What's the ABV of the average beer look like?\n",
    "\n",
    "### Show me in two different ways: one command to show the `median`/`mean`/etc, and secondly show me a chart"
   ]
  },
  {
   "cell_type": "code",
   "execution_count": 12,
   "metadata": {},
   "outputs": [],
   "source": [
    "pd.set_option(\"display.float_format\", \"{:,.1f}\".format)"
   ]
  },
  {
   "cell_type": "code",
   "execution_count": 13,
   "metadata": {},
   "outputs": [
    {
     "data": {
      "text/plain": [
       "5.6"
      ]
     },
     "execution_count": 13,
     "metadata": {},
     "output_type": "execute_result"
    }
   ],
   "source": [
    "df.ABV.median()"
   ]
  },
  {
   "cell_type": "code",
   "execution_count": 14,
   "metadata": {},
   "outputs": [
    {
     "data": {
      "text/plain": [
       "5.977342419080068"
      ]
     },
     "execution_count": 14,
     "metadata": {},
     "output_type": "execute_result"
    }
   ],
   "source": [
    "df.ABV.mean()"
   ]
  },
  {
   "cell_type": "code",
   "execution_count": 15,
   "metadata": {},
   "outputs": [
    {
     "data": {
      "text/plain": [
       "<matplotlib.lines.Line2D at 0x111b3e590>"
      ]
     },
     "execution_count": 15,
     "metadata": {},
     "output_type": "execute_result"
    },
    {
     "data": {
      "image/png": "[encoded data removed]",
      "text/plain": [
       "<Figure size 432x288 with 1 Axes>"
      ]
     },
     "metadata": {
      "needs_background": "light"
     },
     "output_type": "display_data"
    }
   ],
   "source": [
    "import matplotlib.pyplot as plt \n",
    "df.ABV.hist()\n",
    "plt.axvline(df.ABV.mean(), color='k', linestyle='dashed', linewidth=2)"
   ]
  },
  {
   "cell_type": "markdown",
   "metadata": {},
   "source": [
    "### We don't have ABV for all of the beers, how many are we missing them from?\n",
    "\n",
    "- *Tip: You can use `isna()` or `notna()` to see where a column is missing/not missing data.*\n",
    "- *Tip: You just want to count how many `True`s and `False`s there are.*\n",
    "- *Tip: It's a weird trick involving something we usually use to count things in a column*"
   ]
  },
  {
   "cell_type": "code",
   "execution_count": 16,
   "metadata": {},
   "outputs": [
    {
     "data": {
      "text/plain": [
       "False    2348\n",
       "True       68\n",
       "Name: ABV, dtype: int64"
      ]
     },
     "execution_count": 16,
     "metadata": {},
     "output_type": "execute_result"
    }
   ],
   "source": [
    "df.ABV.isna().value_counts()"
   ]
  },
  {
   "cell_type": "markdown",
   "metadata": {},
   "source": [
    "We are missing 68 values."
   ]
  },
  {
   "cell_type": "markdown",
   "metadata": {},
   "source": [
    "# Looking at location\n",
    "\n",
    "Brooklyn used to produce 80% of the country's beer! Let's see if it's still true."
   ]
  },
  {
   "cell_type": "markdown",
   "metadata": {},
   "source": [
    "## What are the top 10 cities in the US for canned craft beer?"
   ]
  },
  {
   "cell_type": "code",
   "execution_count": 17,
   "metadata": {
    "scrolled": true
   },
   "outputs": [
    {
     "data": {
      "text/plain": [
       "Grand Rapids, MI    66\n",
       "Chicago, IL         55\n",
       "Portland, OR        52\n",
       "Indianapolis, IN    43\n",
       "San Diego, CA       42\n",
       "Boulder, CO         41\n",
       "Denver, CO          40\n",
       "Brooklyn, NY        38\n",
       "Seattle, WA         35\n",
       "Longmont, CO        33\n",
       "Name: Location, dtype: int64"
      ]
     },
     "execution_count": 17,
     "metadata": {},
     "output_type": "execute_result"
    }
   ],
   "source": [
    "df[\"Location\"].value_counts().head(10)"
   ]
  },
  {
   "cell_type": "markdown",
   "metadata": {},
   "source": [
    "## List all of the beer from Brooklyn, NY"
   ]
  },
  {
   "cell_type": "code",
   "execution_count": 18,
   "metadata": {},
   "outputs": [
    {
     "data": {
      "text/html": [
       "<div>\n",
       "<style scoped>\n",
       "    .dataframe tbody tr th:only-of-type {\n",
       "        vertical-align: middle;\n",
       "    }\n",
       "\n",
       "    .dataframe tbody tr th {\n",
       "        vertical-align: top;\n",
       "    }\n",
       "\n",
       "    .dataframe thead th {\n",
       "        text-align: right;\n",
       "    }\n",
       "</style>\n",
       "<table border=\"1\" class=\"dataframe\">\n",
       "  <thead>\n",
       "    <tr style=\"text-align: right;\">\n",
       "      <th></th>\n",
       "      <th>Beer</th>\n",
       "      <th>Brewery</th>\n",
       "      <th>Location</th>\n",
       "      <th>Style</th>\n",
       "      <th>Size</th>\n",
       "      <th>ABV</th>\n",
       "      <th>IBUs</th>\n",
       "    </tr>\n",
       "  </thead>\n",
       "  <tbody>\n",
       "    <tr>\n",
       "      <th>115</th>\n",
       "      <td>4Beans</td>\n",
       "      <td>Sixpoint Craft Ales</td>\n",
       "      <td>Brooklyn, NY</td>\n",
       "      <td>Baltic Porter</td>\n",
       "      <td>12 oz.</td>\n",
       "      <td>10.0</td>\n",
       "      <td>52.0</td>\n",
       "    </tr>\n",
       "    <tr>\n",
       "      <th>210</th>\n",
       "      <td>Jammer</td>\n",
       "      <td>Sixpoint Craft Ales</td>\n",
       "      <td>Brooklyn, NY</td>\n",
       "      <td>Gose</td>\n",
       "      <td>12 oz. Slimline</td>\n",
       "      <td>4.2</td>\n",
       "      <td>16.0</td>\n",
       "    </tr>\n",
       "    <tr>\n",
       "      <th>246</th>\n",
       "      <td>Abigale</td>\n",
       "      <td>Sixpoint Craft Ales</td>\n",
       "      <td>Brooklyn, NY</td>\n",
       "      <td>Belgian Pale Ale</td>\n",
       "      <td>12 oz.</td>\n",
       "      <td>8.0</td>\n",
       "      <td>NaN</td>\n",
       "    </tr>\n",
       "    <tr>\n",
       "      <th>404</th>\n",
       "      <td>Nomader Weiss</td>\n",
       "      <td>Evil Twin Brewing</td>\n",
       "      <td>Brooklyn, NY</td>\n",
       "      <td>Berliner Weissbier</td>\n",
       "      <td>12 oz.</td>\n",
       "      <td>4.0</td>\n",
       "      <td>NaN</td>\n",
       "    </tr>\n",
       "    <tr>\n",
       "      <th>421</th>\n",
       "      <td>Rad</td>\n",
       "      <td>Sixpoint Craft Ales</td>\n",
       "      <td>Brooklyn, NY</td>\n",
       "      <td>Fruit / Vegetable Beer</td>\n",
       "      <td>16 oz.</td>\n",
       "      <td>3.2</td>\n",
       "      <td>7.0</td>\n",
       "    </tr>\n",
       "    <tr>\n",
       "      <th>439</th>\n",
       "      <td>Molotov Lite</td>\n",
       "      <td>Evil Twin Brewing</td>\n",
       "      <td>Brooklyn, NY</td>\n",
       "      <td>American Double / Imperial IPA</td>\n",
       "      <td>16 oz.</td>\n",
       "      <td>8.5</td>\n",
       "      <td>NaN</td>\n",
       "    </tr>\n",
       "    <tr>\n",
       "      <th>588</th>\n",
       "      <td>Bengali</td>\n",
       "      <td>Sixpoint Craft Ales</td>\n",
       "      <td>Brooklyn, NY</td>\n",
       "      <td>American IPA</td>\n",
       "      <td>24 oz. \"Silo Can\"</td>\n",
       "      <td>6.5</td>\n",
       "      <td>62.0</td>\n",
       "    </tr>\n",
       "    <tr>\n",
       "      <th>713</th>\n",
       "      <td>Sensi Harvest</td>\n",
       "      <td>Sixpoint Craft Ales</td>\n",
       "      <td>Brooklyn, NY</td>\n",
       "      <td>American Pale Ale (APA)</td>\n",
       "      <td>12 oz.</td>\n",
       "      <td>4.7</td>\n",
       "      <td>50.0</td>\n",
       "    </tr>\n",
       "    <tr>\n",
       "      <th>969</th>\n",
       "      <td>Hi-Res</td>\n",
       "      <td>Sixpoint Craft Ales</td>\n",
       "      <td>Brooklyn, NY</td>\n",
       "      <td>American Double / Imperial IPA</td>\n",
       "      <td>12 oz.</td>\n",
       "      <td>9.9</td>\n",
       "      <td>111.0</td>\n",
       "    </tr>\n",
       "    <tr>\n",
       "      <th>987</th>\n",
       "      <td>KelSo Nut Brown Lager</td>\n",
       "      <td>KelSo Beer Company</td>\n",
       "      <td>Brooklyn, NY</td>\n",
       "      <td>Euro Dark Lager</td>\n",
       "      <td>12 oz.</td>\n",
       "      <td>5.7</td>\n",
       "      <td>19.0</td>\n",
       "    </tr>\n",
       "    <tr>\n",
       "      <th>1057</th>\n",
       "      <td>Global Warmer</td>\n",
       "      <td>Sixpoint Craft Ales</td>\n",
       "      <td>Brooklyn, NY</td>\n",
       "      <td>American Strong Ale</td>\n",
       "      <td>12 oz.</td>\n",
       "      <td>7.0</td>\n",
       "      <td>70.0</td>\n",
       "    </tr>\n",
       "    <tr>\n",
       "      <th>1074</th>\n",
       "      <td>Autumnation (2013)</td>\n",
       "      <td>Sixpoint Craft Ales</td>\n",
       "      <td>Brooklyn, NY</td>\n",
       "      <td>American IPA</td>\n",
       "      <td>16 oz.</td>\n",
       "      <td>6.7</td>\n",
       "      <td>74.0</td>\n",
       "    </tr>\n",
       "    <tr>\n",
       "      <th>1093</th>\n",
       "      <td>KelSo India Pale Ale</td>\n",
       "      <td>KelSo Beer Company</td>\n",
       "      <td>Brooklyn, NY</td>\n",
       "      <td>American IPA</td>\n",
       "      <td>12 oz.</td>\n",
       "      <td>6.0</td>\n",
       "      <td>64.0</td>\n",
       "    </tr>\n",
       "    <tr>\n",
       "      <th>1267</th>\n",
       "      <td>The Crisp</td>\n",
       "      <td>Sixpoint Craft Ales</td>\n",
       "      <td>Brooklyn, NY</td>\n",
       "      <td>German Pilsener</td>\n",
       "      <td>16 oz.</td>\n",
       "      <td>5.4</td>\n",
       "      <td>42.0</td>\n",
       "    </tr>\n",
       "    <tr>\n",
       "      <th>1268</th>\n",
       "      <td>Sweet Action</td>\n",
       "      <td>Sixpoint Craft Ales</td>\n",
       "      <td>Brooklyn, NY</td>\n",
       "      <td>Cream Ale</td>\n",
       "      <td>16 oz.</td>\n",
       "      <td>5.2</td>\n",
       "      <td>34.0</td>\n",
       "    </tr>\n",
       "    <tr>\n",
       "      <th>1269</th>\n",
       "      <td>Righteous Ale</td>\n",
       "      <td>Sixpoint Craft Ales</td>\n",
       "      <td>Brooklyn, NY</td>\n",
       "      <td>Rye Beer</td>\n",
       "      <td>16 oz.</td>\n",
       "      <td>6.3</td>\n",
       "      <td>57.0</td>\n",
       "    </tr>\n",
       "    <tr>\n",
       "      <th>1270</th>\n",
       "      <td>Bengali Tiger</td>\n",
       "      <td>Sixpoint Craft Ales</td>\n",
       "      <td>Brooklyn, NY</td>\n",
       "      <td>American IPA</td>\n",
       "      <td>16 oz.</td>\n",
       "      <td>6.4</td>\n",
       "      <td>62.0</td>\n",
       "    </tr>\n",
       "    <tr>\n",
       "      <th>1305</th>\n",
       "      <td>KelSo Pilsner</td>\n",
       "      <td>KelSo Beer Company</td>\n",
       "      <td>Brooklyn, NY</td>\n",
       "      <td>Czech Pilsener</td>\n",
       "      <td>12 oz.</td>\n",
       "      <td>5.5</td>\n",
       "      <td>23.0</td>\n",
       "    </tr>\n",
       "    <tr>\n",
       "      <th>1365</th>\n",
       "      <td>Hipster Ale (Two Roads Brewing)</td>\n",
       "      <td>Evil Twin Brewing</td>\n",
       "      <td>Brooklyn, NY</td>\n",
       "      <td>American Pale Ale (APA)</td>\n",
       "      <td>12 oz.</td>\n",
       "      <td>5.5</td>\n",
       "      <td>NaN</td>\n",
       "    </tr>\n",
       "    <tr>\n",
       "      <th>1366</th>\n",
       "      <td>Bikini Beer</td>\n",
       "      <td>Evil Twin Brewing</td>\n",
       "      <td>Brooklyn, NY</td>\n",
       "      <td>American IPA</td>\n",
       "      <td>12 oz.</td>\n",
       "      <td>2.7</td>\n",
       "      <td>NaN</td>\n",
       "    </tr>\n",
       "    <tr>\n",
       "      <th>1373</th>\n",
       "      <td>East India Pale Ale</td>\n",
       "      <td>Brooklyn Brewery</td>\n",
       "      <td>Brooklyn, NY</td>\n",
       "      <td>English India Pale Ale (IPA)</td>\n",
       "      <td>16 oz.</td>\n",
       "      <td>6.8</td>\n",
       "      <td>47.0</td>\n",
       "    </tr>\n",
       "    <tr>\n",
       "      <th>1624</th>\n",
       "      <td>3Beans</td>\n",
       "      <td>Sixpoint Craft Ales</td>\n",
       "      <td>Brooklyn, NY</td>\n",
       "      <td>Baltic Porter</td>\n",
       "      <td>12 oz.</td>\n",
       "      <td>9.9</td>\n",
       "      <td>85.0</td>\n",
       "    </tr>\n",
       "    <tr>\n",
       "      <th>1836</th>\n",
       "      <td>Brownstone</td>\n",
       "      <td>Sixpoint Craft Ales</td>\n",
       "      <td>Brooklyn, NY</td>\n",
       "      <td>American Brown Ale</td>\n",
       "      <td>16 oz.</td>\n",
       "      <td>5.9</td>\n",
       "      <td>47.0</td>\n",
       "    </tr>\n",
       "    <tr>\n",
       "      <th>1857</th>\n",
       "      <td>Brooklyn Summer Ale</td>\n",
       "      <td>Brooklyn Brewery</td>\n",
       "      <td>Brooklyn, NY</td>\n",
       "      <td>English Pale Mild Ale</td>\n",
       "      <td>12 oz.</td>\n",
       "      <td>4.5</td>\n",
       "      <td>NaN</td>\n",
       "    </tr>\n",
       "    <tr>\n",
       "      <th>1962</th>\n",
       "      <td>Hipster Ale (Westbrook Brewing)</td>\n",
       "      <td>Evil Twin Brewing</td>\n",
       "      <td>Brooklyn, NY</td>\n",
       "      <td>American Pale Ale (APA)</td>\n",
       "      <td>12 oz.</td>\n",
       "      <td>5.5</td>\n",
       "      <td>NaN</td>\n",
       "    </tr>\n",
       "    <tr>\n",
       "      <th>1970</th>\n",
       "      <td>Apollo</td>\n",
       "      <td>Sixpoint Craft Ales</td>\n",
       "      <td>Brooklyn, NY</td>\n",
       "      <td>American Pale Wheat Ale</td>\n",
       "      <td>16 oz.</td>\n",
       "      <td>5.2</td>\n",
       "      <td>11.0</td>\n",
       "    </tr>\n",
       "    <tr>\n",
       "      <th>1971</th>\n",
       "      <td>Harbinger</td>\n",
       "      <td>Sixpoint Craft Ales</td>\n",
       "      <td>Brooklyn, NY</td>\n",
       "      <td>Saison / Farmhouse Ale</td>\n",
       "      <td>16 oz.</td>\n",
       "      <td>4.9</td>\n",
       "      <td>35.0</td>\n",
       "    </tr>\n",
       "    <tr>\n",
       "      <th>1972</th>\n",
       "      <td>Resin</td>\n",
       "      <td>Sixpoint Craft Ales</td>\n",
       "      <td>Brooklyn, NY</td>\n",
       "      <td>American Double / Imperial IPA</td>\n",
       "      <td>12 oz.</td>\n",
       "      <td>9.1</td>\n",
       "      <td>103.0</td>\n",
       "    </tr>\n",
       "    <tr>\n",
       "      <th>2027</th>\n",
       "      <td>East India Pale Ale</td>\n",
       "      <td>Brooklyn Brewery</td>\n",
       "      <td>Brooklyn, NY</td>\n",
       "      <td>English India Pale Ale (IPA)</td>\n",
       "      <td>12 oz.</td>\n",
       "      <td>6.8</td>\n",
       "      <td>47.0</td>\n",
       "    </tr>\n",
       "    <tr>\n",
       "      <th>2062</th>\n",
       "      <td>Diesel</td>\n",
       "      <td>Sixpoint Craft Ales</td>\n",
       "      <td>Brooklyn, NY</td>\n",
       "      <td>American Stout</td>\n",
       "      <td>16 oz.</td>\n",
       "      <td>6.3</td>\n",
       "      <td>69.0</td>\n",
       "    </tr>\n",
       "    <tr>\n",
       "      <th>2074</th>\n",
       "      <td>Autumnation (2011-12) (2011)</td>\n",
       "      <td>Sixpoint Craft Ales</td>\n",
       "      <td>Brooklyn, NY</td>\n",
       "      <td>Pumpkin Ale</td>\n",
       "      <td>16 oz.</td>\n",
       "      <td>6.0</td>\n",
       "      <td>48.0</td>\n",
       "    </tr>\n",
       "    <tr>\n",
       "      <th>2140</th>\n",
       "      <td>The Crisp (2011)</td>\n",
       "      <td>Sixpoint Craft Ales</td>\n",
       "      <td>Brooklyn, NY</td>\n",
       "      <td>German Pilsener</td>\n",
       "      <td>16 oz.</td>\n",
       "      <td>5.4</td>\n",
       "      <td>42.0</td>\n",
       "    </tr>\n",
       "    <tr>\n",
       "      <th>2141</th>\n",
       "      <td>Sweet Action (2011)</td>\n",
       "      <td>Sixpoint Craft Ales</td>\n",
       "      <td>Brooklyn, NY</td>\n",
       "      <td>Cream Ale</td>\n",
       "      <td>16 oz.</td>\n",
       "      <td>5.2</td>\n",
       "      <td>34.0</td>\n",
       "    </tr>\n",
       "    <tr>\n",
       "      <th>2142</th>\n",
       "      <td>Righteous Ale (2011)</td>\n",
       "      <td>Sixpoint Craft Ales</td>\n",
       "      <td>Brooklyn, NY</td>\n",
       "      <td>Rye Beer</td>\n",
       "      <td>16 oz.</td>\n",
       "      <td>6.3</td>\n",
       "      <td>57.0</td>\n",
       "    </tr>\n",
       "    <tr>\n",
       "      <th>2143</th>\n",
       "      <td>Bengali Tiger (2011)</td>\n",
       "      <td>Sixpoint Craft Ales</td>\n",
       "      <td>Brooklyn, NY</td>\n",
       "      <td>American IPA</td>\n",
       "      <td>16 oz.</td>\n",
       "      <td>6.4</td>\n",
       "      <td>62.0</td>\n",
       "    </tr>\n",
       "    <tr>\n",
       "      <th>2219</th>\n",
       "      <td>Brooklyn Summer Ale (2011)</td>\n",
       "      <td>Brooklyn Brewery</td>\n",
       "      <td>Brooklyn, NY</td>\n",
       "      <td>English Pale Mild Ale</td>\n",
       "      <td>12 oz.</td>\n",
       "      <td>4.5</td>\n",
       "      <td>NaN</td>\n",
       "    </tr>\n",
       "    <tr>\n",
       "      <th>2350</th>\n",
       "      <td>Brooklyn Lager (16 oz.)</td>\n",
       "      <td>Brooklyn Brewery</td>\n",
       "      <td>Brooklyn, NY</td>\n",
       "      <td>American Amber / Red Lager</td>\n",
       "      <td>16 oz.</td>\n",
       "      <td>5.2</td>\n",
       "      <td>NaN</td>\n",
       "    </tr>\n",
       "    <tr>\n",
       "      <th>2351</th>\n",
       "      <td>Brooklyn Lager (12 oz.)</td>\n",
       "      <td>Brooklyn Brewery</td>\n",
       "      <td>Brooklyn, NY</td>\n",
       "      <td>American Amber / Red Lager</td>\n",
       "      <td>12 oz.</td>\n",
       "      <td>5.2</td>\n",
       "      <td>NaN</td>\n",
       "    </tr>\n",
       "  </tbody>\n",
       "</table>\n",
       "</div>"
      ],
      "text/plain": [
       "                                 Beer              Brewery      Location  \\\n",
       "115                            4Beans  Sixpoint Craft Ales  Brooklyn, NY   \n",
       "210                            Jammer  Sixpoint Craft Ales  Brooklyn, NY   \n",
       "246                           Abigale  Sixpoint Craft Ales  Brooklyn, NY   \n",
       "404                     Nomader Weiss    Evil Twin Brewing  Brooklyn, NY   \n",
       "421                               Rad  Sixpoint Craft Ales  Brooklyn, NY   \n",
       "439                      Molotov Lite    Evil Twin Brewing  Brooklyn, NY   \n",
       "588                           Bengali  Sixpoint Craft Ales  Brooklyn, NY   \n",
       "713                     Sensi Harvest  Sixpoint Craft Ales  Brooklyn, NY   \n",
       "969                            Hi-Res  Sixpoint Craft Ales  Brooklyn, NY   \n",
       "987             KelSo Nut Brown Lager   KelSo Beer Company  Brooklyn, NY   \n",
       "1057                    Global Warmer  Sixpoint Craft Ales  Brooklyn, NY   \n",
       "1074               Autumnation (2013)  Sixpoint Craft Ales  Brooklyn, NY   \n",
       "1093             KelSo India Pale Ale   KelSo Beer Company  Brooklyn, NY   \n",
       "1267                        The Crisp  Sixpoint Craft Ales  Brooklyn, NY   \n",
       "1268                     Sweet Action  Sixpoint Craft Ales  Brooklyn, NY   \n",
       "1269                    Righteous Ale  Sixpoint Craft Ales  Brooklyn, NY   \n",
       "1270                    Bengali Tiger  Sixpoint Craft Ales  Brooklyn, NY   \n",
       "1305                    KelSo Pilsner   KelSo Beer Company  Brooklyn, NY   \n",
       "1365  Hipster Ale (Two Roads Brewing)    Evil Twin Brewing  Brooklyn, NY   \n",
       "1366                      Bikini Beer    Evil Twin Brewing  Brooklyn, NY   \n",
       "1373              East India Pale Ale     Brooklyn Brewery  Brooklyn, NY   \n",
       "1624                           3Beans  Sixpoint Craft Ales  Brooklyn, NY   \n",
       "1836                       Brownstone  Sixpoint Craft Ales  Brooklyn, NY   \n",
       "1857              Brooklyn Summer Ale     Brooklyn Brewery  Brooklyn, NY   \n",
       "1962  Hipster Ale (Westbrook Brewing)    Evil Twin Brewing  Brooklyn, NY   \n",
       "1970                           Apollo  Sixpoint Craft Ales  Brooklyn, NY   \n",
       "1971                        Harbinger  Sixpoint Craft Ales  Brooklyn, NY   \n",
       "1972                            Resin  Sixpoint Craft Ales  Brooklyn, NY   \n",
       "2027              East India Pale Ale     Brooklyn Brewery  Brooklyn, NY   \n",
       "2062                           Diesel  Sixpoint Craft Ales  Brooklyn, NY   \n",
       "2074     Autumnation (2011-12) (2011)  Sixpoint Craft Ales  Brooklyn, NY   \n",
       "2140                 The Crisp (2011)  Sixpoint Craft Ales  Brooklyn, NY   \n",
       "2141              Sweet Action (2011)  Sixpoint Craft Ales  Brooklyn, NY   \n",
       "2142             Righteous Ale (2011)  Sixpoint Craft Ales  Brooklyn, NY   \n",
       "2143             Bengali Tiger (2011)  Sixpoint Craft Ales  Brooklyn, NY   \n",
       "2219       Brooklyn Summer Ale (2011)     Brooklyn Brewery  Brooklyn, NY   \n",
       "2350          Brooklyn Lager (16 oz.)     Brooklyn Brewery  Brooklyn, NY   \n",
       "2351          Brooklyn Lager (12 oz.)     Brooklyn Brewery  Brooklyn, NY   \n",
       "\n",
       "                               Style               Size  ABV  IBUs  \n",
       "115                    Baltic Porter             12 oz. 10.0  52.0  \n",
       "210                             Gose    12 oz. Slimline  4.2  16.0  \n",
       "246                 Belgian Pale Ale             12 oz.  8.0   NaN  \n",
       "404               Berliner Weissbier             12 oz.  4.0   NaN  \n",
       "421           Fruit / Vegetable Beer             16 oz.  3.2   7.0  \n",
       "439   American Double / Imperial IPA             16 oz.  8.5   NaN  \n",
       "588                     American IPA  24 oz. \"Silo Can\"  6.5  62.0  \n",
       "713          American Pale Ale (APA)             12 oz.  4.7  50.0  \n",
       "969   American Double / Imperial IPA             12 oz.  9.9 111.0  \n",
       "987                  Euro Dark Lager             12 oz.  5.7  19.0  \n",
       "1057             American Strong Ale             12 oz.  7.0  70.0  \n",
       "1074                    American IPA             16 oz.  6.7  74.0  \n",
       "1093                    American IPA             12 oz.  6.0  64.0  \n",
       "1267                 German Pilsener             16 oz.  5.4  42.0  \n",
       "1268                       Cream Ale             16 oz.  5.2  34.0  \n",
       "1269                        Rye Beer             16 oz.  6.3  57.0  \n",
       "1270                    American IPA             16 oz.  6.4  62.0  \n",
       "1305                  Czech Pilsener             12 oz.  5.5  23.0  \n",
       "1365         American Pale Ale (APA)             12 oz.  5.5   NaN  \n",
       "1366                    American IPA             12 oz.  2.7   NaN  \n",
       "1373    English India Pale Ale (IPA)             16 oz.  6.8  47.0  \n",
       "1624                   Baltic Porter             12 oz.  9.9  85.0  \n",
       "1836              American Brown Ale             16 oz.  5.9  47.0  \n",
       "1857           English Pale Mild Ale             12 oz.  4.5   NaN  \n",
       "1962         American Pale Ale (APA)             12 oz.  5.5   NaN  \n",
       "1970         American Pale Wheat Ale             16 oz.  5.2  11.0  \n",
       "1971          Saison / Farmhouse Ale             16 oz.  4.9  35.0  \n",
       "1972  American Double / Imperial IPA             12 oz.  9.1 103.0  \n",
       "2027    English India Pale Ale (IPA)             12 oz.  6.8  47.0  \n",
       "2062                  American Stout             16 oz.  6.3  69.0  \n",
       "2074                     Pumpkin Ale             16 oz.  6.0  48.0  \n",
       "2140                 German Pilsener             16 oz.  5.4  42.0  \n",
       "2141                       Cream Ale             16 oz.  5.2  34.0  \n",
       "2142                        Rye Beer             16 oz.  6.3  57.0  \n",
       "2143                    American IPA             16 oz.  6.4  62.0  \n",
       "2219           English Pale Mild Ale             12 oz.  4.5   NaN  \n",
       "2350      American Amber / Red Lager             16 oz.  5.2   NaN  \n",
       "2351      American Amber / Red Lager             12 oz.  5.2   NaN  "
      ]
     },
     "execution_count": 18,
     "metadata": {},
     "output_type": "execute_result"
    }
   ],
   "source": [
    "df.query(\"Location == 'Brooklyn, NY'\")"
   ]
  },
  {
   "cell_type": "markdown",
   "metadata": {},
   "source": [
    "## What brewery in Brooklyn puts out the most types of canned beer?"
   ]
  },
  {
   "cell_type": "code",
   "execution_count": 19,
   "metadata": {},
   "outputs": [],
   "source": [
    "df_Brooklyn = df.query(\"Location == 'Brooklyn, NY'\")"
   ]
  },
  {
   "cell_type": "code",
   "execution_count": 20,
   "metadata": {},
   "outputs": [
    {
     "data": {
      "text/plain": [
       "Sixpoint Craft Ales    24\n",
       "Brooklyn Brewery        6\n",
       "Evil Twin Brewing       5\n",
       "KelSo Beer Company      3\n",
       "Name: Brewery, dtype: int64"
      ]
     },
     "execution_count": 20,
     "metadata": {},
     "output_type": "execute_result"
    }
   ],
   "source": [
    "df_Brooklyn[\"Brewery\"].value_counts()"
   ]
  },
  {
   "cell_type": "markdown",
   "metadata": {},
   "source": [
    "Sixpoint Craft Ales puts out the most types of canned beer in Brooklyn. "
   ]
  },
  {
   "cell_type": "markdown",
   "metadata": {},
   "source": [
    "## What are the five styles of beer that Sixpoint produces the most cans of?"
   ]
  },
  {
   "cell_type": "code",
   "execution_count": 21,
   "metadata": {},
   "outputs": [
    {
     "data": {
      "text/plain": [
       "American IPA                      4\n",
       "Baltic Porter                     2\n",
       "American Double / Imperial IPA    2\n",
       "German Pilsener                   2\n",
       "Cream Ale                         2\n",
       "Rye Beer                          2\n",
       "Name: Style, dtype: int64"
      ]
     },
     "execution_count": 21,
     "metadata": {},
     "output_type": "execute_result"
    }
   ],
   "source": [
    "df_Brooklyn.query(\"Brewery == 'Sixpoint Craft Ales'\").Style.value_counts().head(6)\n",
    "# Displaying 6 results as there's a tie"
   ]
  },
  {
   "cell_type": "markdown",
   "metadata": {},
   "source": [
    "## List all of the breweries in New York state.\n",
    "\n",
    "- *Tip: We want to match **part** of the `Location` column, but not all of it.*\n",
    "- *Tip: Watch out for `NaN` values! You might be close, but you'll need to pass an extra parameter to make it work without an error.*"
   ]
  },
  {
   "cell_type": "code",
   "execution_count": 22,
   "metadata": {
    "scrolled": true
   },
   "outputs": [
    {
     "data": {
      "text/plain": [
       "False    2410\n",
       "True        6\n",
       "Name: Location, dtype: int64"
      ]
     },
     "execution_count": 22,
     "metadata": {},
     "output_type": "execute_result"
    }
   ],
   "source": [
    "pd.set_option(\"display.max_rows\", None)\n",
    "df[\"Location\"].isna().value_counts()"
   ]
  },
  {
   "cell_type": "code",
   "execution_count": 23,
   "metadata": {},
   "outputs": [
    {
     "data": {
      "text/plain": [
       "Sixpoint Craft Ales              24\n",
       "Matt Brewing Company             13\n",
       "Brooklyn Brewery                  6\n",
       "Evil Twin Brewing                 5\n",
       "Blue Point Brewing Company        4\n",
       "Butternuts Beer and Ale           4\n",
       "The Bronx Brewery                 3\n",
       "KelSo Beer Company                3\n",
       "Chatham Brewing                   2\n",
       "Montauk Brewing Company           2\n",
       "Bomb Beer Company                 2\n",
       "Upstate Brewing Company           2\n",
       "Newburgh Brewing Company          1\n",
       "Southampton Publick House         1\n",
       "The Manhattan Brewing Company     1\n",
       "Dundee Brewing Company            1\n",
       "Name: Brewery, dtype: int64"
      ]
     },
     "execution_count": 23,
     "metadata": {},
     "output_type": "execute_result"
    }
   ],
   "source": [
    "df[df.Location.str.contains(\"NY\", na=False)][\"Brewery\"].value_counts()"
   ]
  },
  {
   "cell_type": "markdown",
   "metadata": {},
   "source": [
    "### Now *count* all of the breweries in New York state"
   ]
  },
  {
   "cell_type": "code",
   "execution_count": 24,
   "metadata": {},
   "outputs": [
    {
     "data": {
      "text/plain": [
       "count                      74\n",
       "unique                     16\n",
       "top       Sixpoint Craft Ales\n",
       "freq                       24\n",
       "Name: Brewery, dtype: object"
      ]
     },
     "execution_count": 24,
     "metadata": {},
     "output_type": "execute_result"
    }
   ],
   "source": [
    "df[df.Location.str.contains(\"NY\", na=False)][\"Brewery\"].describe()"
   ]
  },
  {
   "cell_type": "markdown",
   "metadata": {},
   "source": [
    "There are 16 breweries in New York State. "
   ]
  },
  {
   "cell_type": "markdown",
   "metadata": {},
   "source": [
    "# Measuring International Bitterness Units\n",
    "\n",
    "## Display all of the IPAs\n",
    "\n",
    "Include American IPAs, Imperial IPAs, and anything else with \"IPA in it.\"\n",
    "\n",
    "IPA stands for [India Pale Ale](https://www.bonappetit.com/story/ipa-beer-styles), and is probably the most popular kind of beer in the US for people who are drinking [craft beer](https://www.craftbeer.com/beer/what-is-craft-beer)."
   ]
  },
  {
   "cell_type": "code",
   "execution_count": 25,
   "metadata": {},
   "outputs": [
    {
     "data": {
      "text/plain": [
       "American IPA                      424\n",
       "American Double / Imperial IPA    105\n",
       "Belgian IPA                        18\n",
       "English India Pale Ale (IPA)       13\n",
       "American White IPA                 11\n",
       "Name: Style, dtype: int64"
      ]
     },
     "execution_count": 25,
     "metadata": {},
     "output_type": "execute_result"
    }
   ],
   "source": [
    "df[df.Style.str.contains(\"IPA\", na=False)][\"Style\"].value_counts()"
   ]
  },
  {
   "cell_type": "markdown",
   "metadata": {},
   "source": [
    "IPAs are usually pretty hoppy and bitter (although I guess hazy IPAs and session IPAs are changing that since I first made this homework!). IBU stands for [International Bitterness Unit](http://www.thebrewenthusiast.com/ibus/), and while a lot of places like to brag about having the most bitter beer (it's an American thing!), IBUs don't necessary *mean anything*.\n",
    "\n",
    "Let's look at how different beers have different IBU measurements."
   ]
  },
  {
   "cell_type": "markdown",
   "metadata": {},
   "source": [
    "## Try to get the average IBU measurement across all beers"
   ]
  },
  {
   "cell_type": "code",
   "execution_count": 26,
   "metadata": {
    "scrolled": false
   },
   "outputs": [],
   "source": [
    "# df.IBUs.value_counts()\n",
    "# 1,005 rows = \"Does not apply\""
   ]
  },
  {
   "cell_type": "code",
   "execution_count": 27,
   "metadata": {},
   "outputs": [],
   "source": [
    "# df.IBUs.mean()"
   ]
  },
  {
   "cell_type": "markdown",
   "metadata": {},
   "source": [
    "### Oh no, it doesn't work!\n",
    "\n",
    "It looks like some of those values *aren't numbers*. There are two ways to fix this:\n",
    "\n",
    "1. Do the `.replace` and `np.nan` thing we did in class. Then convert the column to a number. This is boring.\n",
    "2. When you're reading in your csv, there [is an option called `na_values`](http://pandas.pydata.org/pandas-docs/version/0.23/generated/pandas.read_csv.html). You can give it a list of **numbers or strings to count as `NaN`**. It's a lot easier than doing the `np.nan` thing, although you'll need to go add it up top and run all of your cells again.\n",
    "\n",
    "- *Tip: Make sure you're giving `na_values` a LIST, not just a string*\n",
    "\n",
    "### Now try to get the average IBUs again"
   ]
  },
  {
   "cell_type": "code",
   "execution_count": 28,
   "metadata": {},
   "outputs": [],
   "source": [
    "import numpy as np"
   ]
  },
  {
   "cell_type": "code",
   "execution_count": 29,
   "metadata": {},
   "outputs": [
    {
     "data": {
      "text/plain": [
       "42.71316725978647"
      ]
     },
     "execution_count": 29,
     "metadata": {},
     "output_type": "execute_result"
    }
   ],
   "source": [
    "# using method 2\n",
    "df.IBUs.mean()"
   ]
  },
  {
   "cell_type": "markdown",
   "metadata": {},
   "source": [
    "## Draw the distribution of IBU measurements, but with *twenty* bins instead of the default of 10\n",
    "\n",
    "- *Tip: Every time I ask for a distribution, I'm looking for a histogram*\n",
    "- *Tip: Use the `?` to get all of the options for building a histogram*"
   ]
  },
  {
   "cell_type": "code",
   "execution_count": 30,
   "metadata": {},
   "outputs": [
    {
     "data": {
      "text/plain": [
       "<AxesSubplot:>"
      ]
     },
     "execution_count": 30,
     "metadata": {},
     "output_type": "execute_result"
    },
    {
     "data": {
      "image/png": "[encoded data removed]",
      "text/plain": [
       "<Figure size 432x288 with 1 Axes>"
      ]
     },
     "metadata": {
      "needs_background": "light"
     },
     "output_type": "display_data"
    }
   ],
   "source": [
    "df.IBUs.hist(bins=20)"
   ]
  },
  {
   "cell_type": "markdown",
   "metadata": {},
   "source": [
    "## Hm, Interesting distribution. List all of the beers with IBUs above the 75th percentile\n",
    "\n",
    "- *Tip: There's a single that gives you the 25/50/75th percentile*\n",
    "- *Tip: You can just manually type the number when you list those beers*"
   ]
  },
  {
   "cell_type": "code",
   "execution_count": 31,
   "metadata": {},
   "outputs": [
    {
     "data": {
      "text/plain": [
       "64.0"
      ]
     },
     "execution_count": 31,
     "metadata": {},
     "output_type": "execute_result"
    }
   ],
   "source": [
    "df.IBUs.quantile(q=0.75)"
   ]
  },
  {
   "cell_type": "code",
   "execution_count": 32,
   "metadata": {},
   "outputs": [
    {
     "data": {
      "text/plain": [
       "Dale's Pale Ale                               6\n",
       "Dagger Falls IPA                              3\n",
       "Citra Ass Down                                2\n",
       "Hop Slayer Double IPA (2011)                  2\n",
       "BLAKKR                                        2\n",
       "Tsunami IPA                                   2\n",
       "Ranger IPA                                    2\n",
       "Torpedo                                       2\n",
       "Firestarter India Pale Ale                    2\n",
       "Gandhi-Bot Double IPA                         2\n",
       "Heady Topper                                  2\n",
       "Modus Hoperandi                               2\n",
       "Sanitas Black IPA                             1\n",
       "Frankenlou's IPA                              1\n",
       "Larry Imperial IPA                            1\n",
       "Deep Ellum IPA                                1\n",
       "Twister Creek India Pale Ale                  1\n",
       "Topcutter India Pale Ale                      1\n",
       "Mind's Eye PA                                 1\n",
       "Black IPA                                     1\n",
       "Des Moines IPA                                1\n",
       "Rude Parrot IPA                               1\n",
       "Bitter Bitch Imperial IPA                     1\n",
       "Winterfest                                    1\n",
       "Watershed IPA (2013)                          1\n",
       "Big Eye India Pale Ale                        1\n",
       "Heal the Bay IPA                              1\n",
       "Elevation Triple India Pale Ale               1\n",
       "Red Cockaded Ale (2013)                       1\n",
       "Ethos IPA                                     1\n",
       "Fascist Pig Ale                               1\n",
       "Abominable Winter Ale (2012)                  1\n",
       "3Beans                                        1\n",
       "Grapefruit Jungle (GFJ)                       1\n",
       "Ten Fidy Imperial Stout (2007)                1\n",
       "Ten Fidy Imperial Stout (2008)                1\n",
       "Wood Chipper India Pale Ale                   1\n",
       "Gordon (2005)                                 1\n",
       "Gordon Imperial Red (2010)                    1\n",
       "Dale's Pale Ale (2012)                        1\n",
       "On the Wings of Armageddon                    1\n",
       "PRO-AM (2012) (2012)                          1\n",
       "Interurban IPA                                1\n",
       "Cane and Ebel                                 1\n",
       "Hop Abomination                               1\n",
       "Dale's Pale Ale (10 Year Anniversary)         1\n",
       "Odyssey Imperial IPA                          1\n",
       "Ex Umbris Rye Imperial Stout                  1\n",
       "Oasis                                         1\n",
       "Sculpin IPA                                   1\n",
       "Lower De Boom                                 1\n",
       "Elephant Rock IPA                             1\n",
       "Face Plant IPA                                1\n",
       "Bad Axe Imperial IPA                          1\n",
       "Forest Fire Imperial Smoked Rye               1\n",
       "5 Day IPA                                     1\n",
       "Old Grogham Imperial India Pale Ale           1\n",
       "Nice Rack IPA                                 1\n",
       "Cascadian Dark Ale                            1\n",
       "Bozone HopZone IPA                            1\n",
       "Upslope Imperial India Pale Ale               1\n",
       "Outlaw IPA                                    1\n",
       "Hop Ottin' IPA                                1\n",
       "Deviant Dale's IPA                            1\n",
       "Dreamin' Double IPA                           1\n",
       "Habitus IPA                                   1\n",
       "Alphadelic IPA                                1\n",
       "Bourbon Barrel Aged Timmie                    1\n",
       "Crank Yanker IPA                              1\n",
       "Duluchan India Pale Ale                       1\n",
       "Dodgy Knight Imperial IPA                     1\n",
       "Indian Paintbrush IPA                         1\n",
       "Mutiny IPA                                    1\n",
       "Disconnected Red                              1\n",
       "Hop Shock IPA                                 1\n",
       "Hop Notch IPA (2013)                          1\n",
       "Descender IPA                                 1\n",
       "Brew Free! or Die IPA (2008)                  1\n",
       "Overrated! West Coast Style IPA               1\n",
       "Psychopathy                                   1\n",
       "José Martí American Porter                    1\n",
       "Jai Alai IPA Aged on White Oak                1\n",
       "Humidor Series India Pale Ale                 1\n",
       "Nebraska India Pale Ale                       1\n",
       "Old Devil's Tooth                             1\n",
       "Laughing Dog IPA                              1\n",
       "Evolutionary IPA (2012)                       1\n",
       "Redacted Rye IPA                              1\n",
       "21st Amendment IPA (2006)                     1\n",
       "Ace IPA                                       1\n",
       "Brew Free! or Die IPA (2009)                  1\n",
       "Alphadelic IPA (2011)                         1\n",
       "Hop Shock IPA (2010)                          1\n",
       "Vortex IPA                                    1\n",
       "WET                                           1\n",
       "Hop Ottin' IPA (2011)                         1\n",
       "Upstate I.P.W.                                1\n",
       "Black Adder IBA (Current)                     1\n",
       "G'KNIGHT (12 oz.)                             1\n",
       "Crank Yanker IPA (2011)                       1\n",
       "Anti-Hero IPA                                 1\n",
       "Shiva IPA                                     1\n",
       "Hop Crisis                                    1\n",
       "Sockeye Red IPA                               1\n",
       "Flyin' HI.P.Hay                               1\n",
       "Great Crescent Stout                          1\n",
       "Bourbon's Barrel Stout                        1\n",
       "Hopadillo India Pale Ale                      1\n",
       "Hop Box Imperial IPA                          1\n",
       "Snake Handler Double IPA                      1\n",
       "Good People IPA                               1\n",
       "Lucky U IPA                                   1\n",
       "Caldera IPA                                   1\n",
       "GUBNA Imperial IPA                            1\n",
       "Ten Fidy Imperial Stout                       1\n",
       "Brew Free! or Die IPA                         1\n",
       "Furious                                       1\n",
       "Abrasive Ale                                  1\n",
       "113 IPA                                       1\n",
       "Big Swell IPA                                 1\n",
       "Ballz Deep Double IPA                         1\n",
       "The Corruption                                1\n",
       "Double Haul IPA                               1\n",
       "Third Eye Pale Ale                            1\n",
       "Oasis (2010)                                  1\n",
       "Avery India Pale Ale                          1\n",
       "Ranger IPA (Current)                          1\n",
       "Back in Black                                 1\n",
       "Stowaway IPA                                  1\n",
       "Missouri Mule India Pale Ale                  1\n",
       "Evolutionary IPA (2011)                       1\n",
       "Caldera IPA (2009)                            1\n",
       "Diesel                                        1\n",
       "Over the Rail Pale Ale                        1\n",
       "G'KNIGHT (16 oz.)                             1\n",
       "Midnight Ryder                                1\n",
       "California Sunshine Rye IPA                   1\n",
       "Dale's Pale Ale (2002)                        1\n",
       "Dale's Pale Ale (2003)                        1\n",
       "Dale's Pale Ale (2004)                        1\n",
       "Dale's Pale Ale (2006)                        1\n",
       "Dale's Pale Ale (2008)                        1\n",
       "Old Grogham Imperial India Pale Ale (2012)    1\n",
       "Wolf Among Weeds IPA (2012)                   1\n",
       "Burning Bush Smoked IPA                       1\n",
       "Dale's Pale Ale (2010)                        1\n",
       "Dale's Pale Ale (2011)                        1\n",
       "Double Haul IPA (2006)                        1\n",
       "Double Haul IPA (2009)                        1\n",
       "Caldera IPA (2007)                            1\n",
       "Hop A Potamus Double Dark Rye Pale Ale        1\n",
       "Rodeo Clown Double IPA                        1\n",
       "Elevated IPA                                  1\n",
       "Big Sky IPA (2012)                            1\n",
       "Grapefruit Jungle (GFJ) (2011)                1\n",
       "Big Cock IPA                                  1\n",
       "Old Elephant Foot IPA                         1\n",
       "Jai Alai IPA                                  1\n",
       "Eclipse Black IPA                             1\n",
       "Tocobaga Red Ale                              1\n",
       "Westbrook IPA                                 1\n",
       "HGH (Home Grown Hops): Part Duh               1\n",
       "Hopworks IPA (2012)                           1\n",
       "Independence Pass Ale                         1\n",
       "Resin                                         1\n",
       "Ryeteous Rye IPA (2012)                       1\n",
       "Monkeynaut IPA                                1\n",
       "Hoppy Boy                                     1\n",
       "Fairweather IPA                               1\n",
       "Isis                                          1\n",
       "F5 IPA                                        1\n",
       "Falling Down Brown Ale                        1\n",
       "Overlord Imperial IPA                         1\n",
       "Mound Builder IPA                             1\n",
       "Worthy IPA                                    1\n",
       "Hopworks IPA                                  1\n",
       "Lil' Helper                                   1\n",
       "Scarecrow                                     1\n",
       "Dark Voyage Black IPA (2013)                  1\n",
       "Salamander Slam                               1\n",
       "The Power of Zeus                             1\n",
       "Homefront IPA                                 1\n",
       "Mothman Black IPA                             1\n",
       "Hopportunity Knocks IPA                       1\n",
       "Hoodoo Voodoo IPA                             1\n",
       "Watershed IPA                                 1\n",
       "Perpetual Darkness                            1\n",
       "O’Malley’s IPA                                1\n",
       "Sinister Minister Black IPA                   1\n",
       "2014 IPA Cicada Series                        1\n",
       "The Green Room                                1\n",
       "Abominable Winter Ale                         1\n",
       "Dream Crusher Double IPA                      1\n",
       "Moirai India Pale Ale                         1\n",
       "City of the Sun                               1\n",
       "Captain's Daughter                            1\n",
       "Might As Well IPL                             1\n",
       "Dankosaurus                                   1\n",
       "Count Hopula (Vault Series)                   1\n",
       "Fisherman's IPA                               1\n",
       "Dead-Eye DIPA                                 1\n",
       "8 Barrel                                      1\n",
       "Hop Stalker Fresh Hop IPA                     1\n",
       "Epitome                                       1\n",
       "Arcus IPA                                     1\n",
       "1916 Shore Shiver                             1\n",
       "Brutus                                        1\n",
       "More Cowbell                                  1\n",
       "Beyond The Pale IPA                           1\n",
       "Aurora                                        1\n",
       "Booming Rollers                               1\n",
       "3:33 Black IPA                                1\n",
       "Third Eye Enlightened Pale Ale                1\n",
       "Yellow Wolf Imperial IPA                      1\n",
       "Rule G IPA                                    1\n",
       "Harness the Winter                            1\n",
       "Jah Mon                                       1\n",
       "Heavy Lifting                                 1\n",
       "Gone A-Rye                                    1\n",
       "The Gadget                                    1\n",
       "Citra Faced                                   1\n",
       "Saucy Intruder                                1\n",
       "Csar                                          1\n",
       "Train Hopper                                  1\n",
       "98 Problems (Cuz A Hop Ain't One)             1\n",
       "Yeti Imperial Stout                           1\n",
       "Habitus                                       1\n",
       "Solis                                         1\n",
       "Habitus (2014)                                1\n",
       "Hoponius Union                                1\n",
       "Excess IPL                                    1\n",
       "Pile of Face                                  1\n",
       "Rico Sauvin                                   1\n",
       "Flying Mouse 4                                1\n",
       "Soul Doubt                                    1\n",
       "Bimini Twist                                  1\n",
       "Mission IPA                                   1\n",
       "Unchained #18 Hop Silo                        1\n",
       "4000 Footer IPA                               1\n",
       "Back Bay IPA                                  1\n",
       "Big Star White IPA                            1\n",
       "Clean Shave IPA                               1\n",
       "Newport Storm IPA                             1\n",
       "Bay of Bengal Double IPA (2014)               1\n",
       "Nugget Nectar                                 1\n",
       "Long Leaf                                     1\n",
       "Self Starter                                  1\n",
       "India Pale Ale                                1\n",
       "Union Jack                                    1\n",
       "Hopkick Dropkick                              1\n",
       "Wobble                                        1\n",
       "Hop A-Peel                                    1\n",
       "Double Duckpin                                1\n",
       "Infamous IPA                                  1\n",
       "Tropicalia                                    1\n",
       "Vertex IPA                                    1\n",
       "Squatters Hop Rising Double IPA (2014)        1\n",
       "Good Vibes IPA                                1\n",
       "Global Warmer                                 1\n",
       "Initial Point India Pale Ale                  1\n",
       "Half Cycle IPA                                1\n",
       "Hop Slayer Double IPA                         1\n",
       "Hop Drop 'N Roll IPA                          1\n",
       "Better Weather IPA                            1\n",
       "Catch 23                                      1\n",
       "Terrace Hill Double IPA                       1\n",
       "Lucky Day IPA                                 1\n",
       "Evo IPA                                       1\n",
       "Sobek & Set                                   1\n",
       "King Street IPA                               1\n",
       "Manzanita IPA                                 1\n",
       "Chaotic Double IPA                            1\n",
       "Madra Allta                                   1\n",
       "Troopers Alley IPA                            1\n",
       "Autumnation (2013)                            1\n",
       "12th Round                                    1\n",
       "RoughTail IPA                                 1\n",
       "Worthy IPA (2013)                             1\n",
       "Shipwrecked Double IPA                        1\n",
       "London Balling                                1\n",
       "Pilzilla                                      1\n",
       "Blazing World                                 1\n",
       "Valkyrie Double IPA                           1\n",
       "Country Boy IPA                               1\n",
       "Perpetual IPA                                 1\n",
       "Ten Fidy                                      1\n",
       "KelSo India Pale Ale                          1\n",
       "G'KNIGHT                                      1\n",
       "Monkey Fist IPA                               1\n",
       "Proxima IPA                                   1\n",
       "Farmer Wirtz India Pale Ale                   1\n",
       "Batch 69 IPA                                  1\n",
       "Double Trunk                                  1\n",
       "Centennial IPA                                1\n",
       "The Great Return                              1\n",
       "Category 3 IPA                                1\n",
       "Operation Homefront                           1\n",
       "Irregardless IPA                              1\n",
       "Hop Freak                                     1\n",
       "Hoperation Overload                           1\n",
       "Hill 88 Double IPA                            1\n",
       "Groupe G                                      1\n",
       "Bent Hop Golden IPA                           1\n",
       "Let It Ride IPA                               1\n",
       "Second Fiddle                                 1\n",
       "Missile IPA                                   1\n",
       "Almanac IPA                                   1\n",
       "077XX                                         1\n",
       "Sky-Five                                      1\n",
       "Fistful of Hops Green                         1\n",
       "Fistful Of Hops Blue                          1\n",
       "Fistful of Hops Orange                        1\n",
       "Fistful Of Hops Red                           1\n",
       "Giant DIPA                                    1\n",
       "Wandering Pelican                             1\n",
       "El Chingon IPA                                1\n",
       "Saint Archer IPA                              1\n",
       "Supergoose IPA                                1\n",
       "Hemlock Double IPA                            1\n",
       "Hi-Res                                        1\n",
       "Be Hoppy IPA                                  1\n",
       "Wolf Among Weeds IPA                          1\n",
       "Big Sky IPA                                   1\n",
       "Hop Nosh IPA                                  1\n",
       "Red Cockaded Ale                              1\n",
       "Mississippi Fire Ant                          1\n",
       "Golden Ratio IPA                              1\n",
       "IPA & a Half                                  1\n",
       "2020 IPA                                      1\n",
       "Filthy Hoppin' IPA                            1\n",
       "Hoptopus Double IPA                           1\n",
       "Quarter Mile Double IPA                       1\n",
       "Squatters Hop Rising Double IPA               1\n",
       "American India Red Ale                        1\n",
       "Truth                                         1\n",
       "Gordon Ale (2009)                             1\n",
       "Name: Beer, dtype: int64"
      ]
     },
     "execution_count": 32,
     "metadata": {},
     "output_type": "execute_result"
    }
   ],
   "source": [
    "df.query(\"IBUs >= 64\").Beer.value_counts()"
   ]
  },
  {
   "cell_type": "markdown",
   "metadata": {},
   "source": [
    "## List all of the beers with IBUs below the 25th percentile"
   ]
  },
  {
   "cell_type": "code",
   "execution_count": 33,
   "metadata": {},
   "outputs": [
    {
     "data": {
      "text/plain": [
       "21.0"
      ]
     },
     "execution_count": 33,
     "metadata": {},
     "output_type": "execute_result"
    }
   ],
   "source": [
    "df.IBUs.quantile(q=0.25)"
   ]
  },
  {
   "cell_type": "code",
   "execution_count": 34,
   "metadata": {
    "scrolled": false
   },
   "outputs": [
    {
     "data": {
      "text/plain": [
       "Nonstop Hef Hop                                12\n",
       "Longboard Island Lager                          4\n",
       "Halcyon Unfiltered Wheat                        2\n",
       "Watermelon Ale                                  2\n",
       "Blacktop Blonde                                 2\n",
       "312 Urban Wheat Ale                             2\n",
       "Suzy B Dirty Blonde Ale                         2\n",
       "Black Star Double Hopped Golden Lager           2\n",
       "Point Special                                   2\n",
       "Lake House                                      2\n",
       "Bombshell Blonde                                2\n",
       "Morning Wood Wheat (Current)                    2\n",
       "#9                                              2\n",
       "Fat Tire Amber Ale                              2\n",
       "Hell or High Watermelon Wheat (2009)            2\n",
       "Point Nude Beach Summer Wheat                   2\n",
       "Point Special Lager                             2\n",
       "The Brown Note                                  2\n",
       "Point Oktoberfest                               2\n",
       "Barney Flats Oatmeal Stout                      2\n",
       "Country Pale Ale                                1\n",
       "Orange Wheat                                    1\n",
       "Hangar 24 Helles Lager                          1\n",
       "The Lawn Ranger                                 1\n",
       "Get Up Offa That Brown                          1\n",
       "Honey Wheat                                     1\n",
       "The Hole in Hadrian's Wall                      1\n",
       "Vanilla Bean Buffalo Sweat                      1\n",
       "Barn Burner Saison                              1\n",
       "SanTan HefeWeizen                               1\n",
       "Epicenter Amber Ale                             1\n",
       "Tallgrass Pub Ale                               1\n",
       "Wall's End                                      1\n",
       "Farmer John's Multi-Grain Ale                   1\n",
       "Widespread Wit                                  1\n",
       "Choc Beer (2003)                                1\n",
       "21st Amendment Watermelon Wheat Beer (2006)     1\n",
       "Boont Amber Ale (2010)                          1\n",
       "Firemans #4 Blonde Ale (2015)                   1\n",
       "Black Walnut Wheat                              1\n",
       "Sex Panther (2014)                              1\n",
       "Dry Dock Hefeweizen                             1\n",
       "Booyah Farmhouse Ale                            1\n",
       "Lawnmower Lager                                 1\n",
       "Apricot Blonde                                  1\n",
       "Wheat the People                                1\n",
       "Pumpkan                                         1\n",
       "Polar Pale Ale                                  1\n",
       "Sly Fox Christmas Ale 2012 (2012)               1\n",
       "Northern Lights Amber Ale                       1\n",
       "Brunette Nut Brown Ale                          1\n",
       "Sweet As Pacific Ale                            1\n",
       "Elder Betty                                     1\n",
       "El Hefe Speaks                                  1\n",
       "Samuel Adams Octoberfest                        1\n",
       "Dog Days Lager                                  1\n",
       "Estival Cream Stout                             1\n",
       "Westbrook Gose                                  1\n",
       "Steel Rail Extra Pale Ale                       1\n",
       "Wild Wolf Wee Heavy Scottish Style Ale          1\n",
       "Big Rod Coconut Ale                             1\n",
       "Boont Amber Ale                                 1\n",
       "Hardywood Cream Ale                             1\n",
       "Greenbelt Farmhouse Ale                         1\n",
       "Float Trip Ale                                  1\n",
       "UFO Pumpkin                                     1\n",
       "Summer Solstice                                 1\n",
       "541 American Lager                              1\n",
       "Schuylkill Punch                                1\n",
       "Half Full Bright Ale                            1\n",
       "Dos Pistolas                                    1\n",
       "Cotton Mouth                                    1\n",
       "Wild Night                                      1\n",
       "Hazy Day Belgian-Style Wit                      1\n",
       "Helles Golden Lager                             1\n",
       "Samuel Adams Summer Ale                         1\n",
       "Blueberry Blonde Ale                            1\n",
       "EOS Hefeweizen                                  1\n",
       "Woolybugger Wheat                               1\n",
       "Lumberyard Pilsner                              1\n",
       "Mo's Gose                                       1\n",
       "Peninsula Brewers Reserve (PBR)                 1\n",
       "Pace Setter Belgian Style Wit                   1\n",
       "Wild Plum Farmhouse Ale                         1\n",
       "Wagon Box Wheat Beer                            1\n",
       "Saddle Bronc Brown Ale (2013)                   1\n",
       "Bomber Mountain Amber Ale (2013)                1\n",
       "Twisted Helles Summer Lager                     1\n",
       "SUM'R                                           1\n",
       "Love Street Summer Seasonal (2014)              1\n",
       "Mr. Pineapple                                   1\n",
       "Fat Tire Amber Ale (2011)                       1\n",
       "Point Nude Beach Summer Wheat (2011)            1\n",
       "Festie                                          1\n",
       "Point Nude Beach Summer Wheat (2010)            1\n",
       "Flaming Damsel Lager (2010)                     1\n",
       "Kilt Lifter Scottish-Style Ale (2009)           1\n",
       "Pallavicini Pilsner (2009)                      1\n",
       "SanTan HefeWeizen (2010)                        1\n",
       "Mana Wheat                                      1\n",
       "Narragansett Fest Lager                         1\n",
       "Mexican Logger                                  1\n",
       "O'Fallon Wheach                                 1\n",
       "Whitsun                                         1\n",
       "SummerBright Ale                                1\n",
       "Wild Onion Summer Wit                           1\n",
       "Pyramid Hefeweizen (2011)                       1\n",
       "Snake River Lager                               1\n",
       "Bottom Up Belgian Wit                           1\n",
       "Washita Wheat                                   1\n",
       "Point Amber Classic                             1\n",
       "Epicenter Amber Ale (2010)                      1\n",
       "Buffalo Sweat                                   1\n",
       "Summer Solstice (2011)                          1\n",
       "Hell                                            1\n",
       "Royal Weisse Ale                                1\n",
       "Dunkel Lager                                    1\n",
       "Bikini Blonde Lager                             1\n",
       "Schlafly Summer Lager                           1\n",
       "Sunlight Cream Ale                              1\n",
       "Fat Tire Amber Ale (2008)                       1\n",
       "Boont Amber Ale (2011)                          1\n",
       "White Rascal                                    1\n",
       "Haywire Hefeweizen (2010)                       1\n",
       "Avalanche Ale                                   1\n",
       "Cold Smoke Scotch Ale                           1\n",
       "Colorado Kölsch                                 1\n",
       "Buffalo Sweat (2010)                            1\n",
       "Köld Lager (2010)                               1\n",
       "Ellie’s Brown Ale                               1\n",
       "Mustang Golden Ale                              1\n",
       "Dundee Summer Wheat Beer                        1\n",
       "Weisse Versa                                    1\n",
       "Full Boar Scotch Ale                            1\n",
       "Snowshoe White Ale                              1\n",
       "Schlafly Hefeweizen                             1\n",
       "Rosa Hibiscus Ale                               1\n",
       "UFO White                                       1\n",
       "Wachusett Blueberry Ale                         1\n",
       "Apollo                                          1\n",
       "Cherry Ale (1)                                  1\n",
       "Three Kings Ale                                 1\n",
       "Top Rope Mexican-style Craft Lager              1\n",
       "Blue Point Summer Ale                           1\n",
       "Lava Lake Wit                                   1\n",
       "Devils Tramping Ground Tripel                   1\n",
       "Hilliard's Blonde                               1\n",
       "Double D Blonde (2013)                          1\n",
       "Summer Solstice Cerveza Crema (2009)            1\n",
       "Cold Smoke Scotch Ale (2007)                    1\n",
       "312 Urban Wheat Ale (2012)                      1\n",
       "White Thai                                      1\n",
       "Blackbeary Wheat                                1\n",
       "Barney Flats Oatmeal Stout (2012)               1\n",
       "Joseph James American Lager                     1\n",
       "Great Crescent Belgian Style Wit                1\n",
       "Double D Blonde (2011)                          1\n",
       "Abita Amber                                     1\n",
       "Purple Haze                                     1\n",
       "SoDo Brown Ale                                  1\n",
       "McKinney Eddy Amber Ale                         1\n",
       "Winter Solstice                                 1\n",
       "Atwater's Lager                                 1\n",
       "Tin Roof Blonde Ale                             1\n",
       "Dirty Blonde Ale                                1\n",
       "Florida Cracker Belgian Wit                     1\n",
       "La Perouse White                                1\n",
       "Golden Road Hefeweizen (2012)                   1\n",
       "Jon Boat Coastal Ale                            1\n",
       "Beaver Logger                                   1\n",
       "Kölsch 151                                      1\n",
       "Sanitas Saison Ale                              1\n",
       "Shotgun Betty                                   1\n",
       "Rad                                             1\n",
       "The Golden One                                  1\n",
       "Summer Brew                                     1\n",
       "River House                                     1\n",
       "Sunbru Kölsch                                   1\n",
       "PUNK'N                                          1\n",
       "Knotty Blonde Ale                               1\n",
       "Gansett Light                                   1\n",
       "Lobo Lito                                       1\n",
       "Hunny Do Wheat                                  1\n",
       "Point Special (Current)                         1\n",
       "18th Anniversary Gose                           1\n",
       "Weisse Versa (2012)                             1\n",
       "Mr. Blue Sky                                    1\n",
       "Blood Orange Honey                              1\n",
       "Laka Laka Pineapple                             1\n",
       "Blonde Hunny                                    1\n",
       "Towhead                                         1\n",
       "Point Special (2012)                            1\n",
       "Double D Blonde                                 1\n",
       "Summer's Wit                                    1\n",
       "Sir William's English Brown Ale                 1\n",
       "Monarch Classic American Wheat                  1\n",
       "Robert Earl Keen Honey Pils                     1\n",
       "Onyx Black Ale                                  1\n",
       "Joey Wheat                                      1\n",
       "Lost Meridian Wit                               1\n",
       "Couch Select Lager                              1\n",
       "American Lager                                  1\n",
       "Sol Drifter                                     1\n",
       "Twisted X                                       1\n",
       "Copperhead Amber                                1\n",
       "Honey Kolsch                                    1\n",
       "Ermal's                                         1\n",
       "American Light                                  1\n",
       "American Amber                                  1\n",
       "P-Town Pilsner                                  1\n",
       "Deception                                       1\n",
       "Cali Creamin'                                   1\n",
       "Hotbox Brown                                    1\n",
       "Vermont Pilsner                                 1\n",
       "Gose                                            1\n",
       "Vanilla Porter                                  1\n",
       "Sex Panther                                     1\n",
       "Damascene Apricot Sour                          1\n",
       "Cafe Leche                                      1\n",
       "Gold                                            1\n",
       "Sparkle                                         1\n",
       "Bunker Hill Blueberry Ale                       1\n",
       "KSA                                             1\n",
       "Westfalia                                       1\n",
       "Park                                            1\n",
       "Leisure Time                                    1\n",
       "House Lager                                     1\n",
       "Bloody Show                                     1\n",
       "Sho'nuff                                        1\n",
       "Ginger Peach Saison                             1\n",
       "Weissenheimer                                   1\n",
       "Passion Fruit Prussia                           1\n",
       "Send Help                                       1\n",
       "Rhode Island Blueberry                          1\n",
       "Blackberry Wheat                                1\n",
       "Jammer                                          1\n",
       "Totally Radler                                  1\n",
       "Bomber Mountain Amber Ale                       1\n",
       "Saddle Bronc Brown Ale                          1\n",
       "Vanilla Java Porter                             1\n",
       "Old Pro                                         1\n",
       "Honey Badger Blonde                             1\n",
       "Honey Rye                                       1\n",
       "Farmer's Daughter Blonde                        1\n",
       "Yo Soy Un Berliner                              1\n",
       "Rye Wit                                         1\n",
       "Bat Outta Helles                                1\n",
       "Daft Funk                                       1\n",
       "Point Special (2013)                            1\n",
       "Broken Bridge                                   1\n",
       "Old Forge Pumpkin Ale                           1\n",
       "Kilt Lifter Scottish-Style Ale                  1\n",
       "Sweet Yamma Jamma Ale                           1\n",
       "Lahaina Town Brown                              1\n",
       "Four Peaks Peach Ale                            1\n",
       "Sly Fox Christmas Ale 2013                      1\n",
       "Chickawawa Lemonale                             1\n",
       "Pumpkin Beast                                   1\n",
       "Belgian Style Session Ale                       1\n",
       "Banner American Rye                             1\n",
       "Agave Wheat                                     1\n",
       "Chai Ale                                        1\n",
       "King Street Hefeweizen                          1\n",
       "KelSo Nut Brown Lager                           1\n",
       "Schweet Ale                                     1\n",
       "Wick For Brains                                 1\n",
       "Firemans #4 Blonde Ale (2013)                   1\n",
       "805                                             1\n",
       "Starr Pils                                      1\n",
       "Shark Bait                                      1\n",
       "What the Butler Saw                             1\n",
       "Laimas Kölsch Style Ale                         1\n",
       "Two-One Niner                                   1\n",
       "Horny Monk                                      1\n",
       "Tybee Island Blonde                             1\n",
       "Flesh Gourd'n                                   1\n",
       "Weiss Trash Culture                             1\n",
       "Tin Roof Watermelon Wheat                       1\n",
       "Stone's Throw IPA                               1\n",
       "Norns Roggenbier                                1\n",
       "Golden Road Hefeweizen                          1\n",
       "Parcae Belgian Style Pale Ale                   1\n",
       "Peacemaker Pilsner                              1\n",
       "Dead Eye Dunkel                                 1\n",
       "Hideout Helles                                  1\n",
       "Wolverine Premium Lager                         1\n",
       "Oval Beach Blonde Ale                           1\n",
       "Summer Paradise                                 1\n",
       "A Slice of Hefen                                1\n",
       "Bronx Summer Pale Ale                           1\n",
       "When Helles Freezes Over                        1\n",
       "Skylight                                        1\n",
       "1554 Black Lager                                1\n",
       "Cherry Ale                                      1\n",
       "Franz                                           1\n",
       "The Great Pumpcan                               1\n",
       "Ale Cider                                       1\n",
       "Here Gose Nothin'                               1\n",
       "Pub Ale                                         1\n",
       "UFO Gingerland                                  1\n",
       "Stone Fort Brown Ale                            1\n",
       "Weize Guy                                       1\n",
       "Noche Dulce                                     1\n",
       "Boathouse Blonde                                1\n",
       "Hop Up Offa That Brett (2014)                   1\n",
       "Blood Orange Wit                                1\n",
       "Aprè Shred                                      1\n",
       "Laughing Dog Cream Ale                          1\n",
       "LuckenBock                                      1\n",
       "FMB 101                                         1\n",
       "Upland Wheat Ale                                1\n",
       "Monkey Chased the Weasel                        1\n",
       "Hijack                                          1\n",
       "Hot Date Ale                                    1\n",
       "Rollin Dirty Red Ale                            1\n",
       "The Tradition                                   1\n",
       "LIFT                                            1\n",
       "Porch Rocker                                    1\n",
       "Saint Archer White Ale                          1\n",
       "Local Buzz                                      1\n",
       "Seiche Scottish Ale                             1\n",
       "Whitecap Wit                                    1\n",
       "Gutch English Style Mild Ale                    1\n",
       "Black Market Hefeweizen                         1\n",
       "Alaskan Amber                                   1\n",
       "Beach Blonde                                    1\n",
       "SunSpot Golden Ale                              1\n",
       "Hell or High Watermelon Wheat                   1\n",
       "Name: Beer, dtype: int64"
      ]
     },
     "execution_count": 34,
     "metadata": {},
     "output_type": "execute_result"
    }
   ],
   "source": [
    "df.query(\"IBUs <= 21\").Beer.value_counts()"
   ]
  },
  {
   "cell_type": "markdown",
   "metadata": {},
   "source": [
    "## List the median IBUs of each type of beer. Graph it.\n",
    "\n",
    "Put the highest at the top, and the missing ones at the bottom.\n",
    "\n",
    "- Tip: Look at the options for `sort_values` to figure out the `NaN` thing. The `?` probably won't help you here."
   ]
  },
  {
   "cell_type": "code",
   "execution_count": 35,
   "metadata": {},
   "outputs": [
    {
     "data": {
      "text/plain": [
       "Style\n",
       "American Barleywine                   96.0\n",
       "Russian Imperial Stout                94.0\n",
       "American Double / Imperial IPA        91.0\n",
       "American Double / Imperial Pilsner    85.0\n",
       "American Black Ale                    73.0\n",
       "Belgian Strong Dark Ale               72.0\n",
       "American Strong Ale                   70.0\n",
       "American IPA                          69.0\n",
       "English Stout                         66.0\n",
       "American India Pale Lager             65.0\n",
       "Belgian IPA                           61.0\n",
       "English Barleywine                    60.0\n",
       "Rye Beer                              57.0\n",
       "English Strong Ale                    52.0\n",
       "Baltic Porter                         52.0\n",
       "American Double / Imperial Stout      51.0\n",
       "English India Pale Ale (IPA)          47.0\n",
       "American White IPA                    45.0\n",
       "American Pale Ale (APA)               44.0\n",
       "Extra Special / Strong Bitter (ESB)   41.0\n",
       "California Common / Steam Beer        41.0\n",
       "Old Ale                               40.0\n",
       "American Stout                        40.0\n",
       "Altbier                               36.5\n",
       "Foreign / Export Stout                36.0\n",
       "Belgian Dark Ale                      35.0\n",
       "Smoked Beer                           35.0\n",
       "German Pilsener                       35.0\n",
       "Irish Dry Stout                       34.0\n",
       "Czech Pilsener                        33.0\n",
       "American Amber / Red Ale              31.0\n",
       "American Porter                       31.0\n",
       "English Pale Ale                      30.0\n",
       "Schwarzbier                           30.0\n",
       "Saison / Farmhouse Ale                30.0\n",
       "Oatmeal Stout                         29.0\n",
       "English Bitter                        28.0\n",
       "Tripel                                27.5\n",
       "Maibock / Helles Bock                 27.5\n",
       "American Wild Ale                     27.0\n",
       "Irish Red Ale                         26.5\n",
       "American Brown Ale                    26.0\n",
       "Milk / Sweet Stout                    25.5\n",
       "Bock                                  25.0\n",
       "Grisette                              25.0\n",
       "Belgian Strong Pale Ale               25.0\n",
       "American Dark Wheat Ale               25.0\n",
       "Doppelbock                            24.5\n",
       "Dortmunder / Export Lager             24.0\n",
       "Wheat Ale                             24.0\n",
       "Chile Beer                            24.0\n",
       "Quadrupel (Quad)                      24.0\n",
       "Vienna Lager                          23.5\n",
       "American Amber / Red Lager            23.0\n",
       "Märzen / Oktoberfest                  23.0\n",
       "Flanders Oud Bruin                    23.0\n",
       "Scottish Ale                          23.0\n",
       "Bière de Garde                        23.0\n",
       "Scotch Ale / Wee Heavy                23.0\n",
       "Winter Warmer                         22.0\n",
       "Kölsch                                22.0\n",
       "Abbey Single Ale                      22.0\n",
       "Euro Pale Lager                       22.0\n",
       "Euro Dark Lager                       22.0\n",
       "English Dark Mild Ale                 22.0\n",
       "American Pilsner                      21.5\n",
       "Radler                                21.0\n",
       "Dubbel                                21.0\n",
       "Munich Dunkel Lager                   21.0\n",
       "Belgian Pale Ale                      21.0\n",
       "English Brown Ale                     20.5\n",
       "Pumpkin Ale                           20.0\n",
       "Roggenbier                            20.0\n",
       "Keller Bier / Zwickel Bier            20.0\n",
       "Cream Ale                             20.0\n",
       "American Pale Wheat Ale               20.0\n",
       "American Blonde Ale                   20.0\n",
       "American Pale Lager                   18.5\n",
       "Munich Helles Lager                   18.0\n",
       "Other                                 16.0\n",
       "Dunkelweizen                          16.0\n",
       "English Pale Mild Ale                 16.0\n",
       "Witbier                               15.5\n",
       "Fruit / Vegetable Beer                15.5\n",
       "Hefeweizen                            15.0\n",
       "Herbed / Spiced Beer                  15.0\n",
       "Light Lager                           12.0\n",
       "Gose                                  10.0\n",
       "American Adjunct Lager                 9.0\n",
       "Berliner Weissbier                     8.0\n",
       "American Malt Liquor                   NaN\n",
       "Braggot                                NaN\n",
       "Cider                                  NaN\n",
       "Flanders Red Ale                       NaN\n",
       "Kristalweizen                          NaN\n",
       "Low Alcohol Beer                       NaN\n",
       "Mead                                   NaN\n",
       "Rauchbier                              NaN\n",
       "Shandy                                 NaN\n",
       "Name: IBUs, dtype: float64"
      ]
     },
     "execution_count": 35,
     "metadata": {},
     "output_type": "execute_result"
    }
   ],
   "source": [
    "df.groupby(\"Style\").IBUs.median().sort_values(ascending=False)"
   ]
  },
  {
   "cell_type": "code",
   "execution_count": 36,
   "metadata": {},
   "outputs": [
    {
     "data": {
      "text/plain": [
       "<AxesSubplot:ylabel='Style'>"
      ]
     },
     "execution_count": 36,
     "metadata": {},
     "output_type": "execute_result"
    },
    {
     "data": {
      "image/png": "[encoded data removed]",
      "text/plain": [
       "<Figure size 432x288 with 1 Axes>"
      ]
     },
     "metadata": {
      "needs_background": "light"
     },
     "output_type": "display_data"
    }
   ],
   "source": [
    "\n",
    "df.groupby(\"Style\").IBUs.median().sort_values(na_position=\"first\").plot(x=\"Style\", y=\"IBUs\", kind=\"barh\")"
   ]
  },
  {
   "cell_type": "code",
   "execution_count": 37,
   "metadata": {},
   "outputs": [
    {
     "data": {
      "text/plain": [
       "<AxesSubplot:ylabel='Style'>"
      ]
     },
     "execution_count": 37,
     "metadata": {},
     "output_type": "execute_result"
    },
    {
     "data": {
      "image/png": "[encoded data removed]",
      "text/plain": [
       "<Figure size 432x288 with 1 Axes>"
      ]
     },
     "metadata": {
      "needs_background": "light"
     },
     "output_type": "display_data"
    }
   ],
   "source": [
    "# plotting first 10 with highest median values\n",
    "df.groupby(\"Style\").IBUs.median().sort_values(na_position=\"first\").tail(10).plot(x=\"Style\", y=\"IBUs\", kind=\"barh\")"
   ]
  },
  {
   "cell_type": "markdown",
   "metadata": {},
   "source": [
    "## Hmmmm, it looks like they are generally different styles. What are the most common 5 styles of high-IBU beer vs. low-IBU beer?\n",
    "\n",
    "- *Tip: You'll want to think about it in three pieces - filtering to only find the specific beers beers, then finding out what the most common styles are, then getting the top 5.*\n",
    "- *Tip: You CANNOT do this in one command. It's going to be one command for the high and one for the low.*\n",
    "- *Tip: \"High IBU\" means higher than 75th percentile, \"Low IBU\" is under 25th percentile*"
   ]
  },
  {
   "cell_type": "code",
   "execution_count": 38,
   "metadata": {},
   "outputs": [
    {
     "data": {
      "text/plain": [
       "64.0"
      ]
     },
     "execution_count": 38,
     "metadata": {},
     "output_type": "execute_result"
    }
   ],
   "source": [
    "df.IBUs.quantile(q=0.75)"
   ]
  },
  {
   "cell_type": "code",
   "execution_count": 39,
   "metadata": {},
   "outputs": [
    {
     "data": {
      "text/plain": [
       "American IPA                      201\n",
       "American Double / Imperial IPA     72\n",
       "American Pale Ale (APA)            18\n",
       "American Black Ale                 15\n",
       "American Strong Ale                 9\n",
       "Name: Style, dtype: int64"
      ]
     },
     "execution_count": 39,
     "metadata": {},
     "output_type": "execute_result"
    }
   ],
   "source": [
    "df.query(\"IBUs >=64\").Style.value_counts().head(5)"
   ]
  },
  {
   "cell_type": "code",
   "execution_count": 40,
   "metadata": {},
   "outputs": [
    {
     "data": {
      "text/plain": [
       "21.0"
      ]
     },
     "execution_count": 40,
     "metadata": {},
     "output_type": "execute_result"
    }
   ],
   "source": [
    "df.IBUs.quantile(q=0.25)"
   ]
  },
  {
   "cell_type": "code",
   "execution_count": 41,
   "metadata": {},
   "outputs": [
    {
     "data": {
      "text/plain": [
       "American Pale Wheat Ale    44\n",
       "American Blonde Ale        40\n",
       "Fruit / Vegetable Beer     29\n",
       "Hefeweizen                 21\n",
       "Witbier                    21\n",
       "Name: Style, dtype: int64"
      ]
     },
     "execution_count": 41,
     "metadata": {},
     "output_type": "execute_result"
    }
   ],
   "source": [
    "df.query(\"IBUs <=21\").Style.value_counts().head(5)"
   ]
  },
  {
   "cell_type": "markdown",
   "metadata": {},
   "source": [
    "## Get the average IBU of \"Witbier\", \"Hefeweizen\" and \"American Pale Wheat Ale\" styles\n",
    "\n",
    "I'm counting these as wheat beers. If you see any other wheat beer categories, feel free to include them. I want ONE measurement and ONE graph, not three separate ones. And 20 to 30 bins in the histogram, please.\n",
    "\n",
    "- *Tip: I hope that `isin` is in your toolbox*"
   ]
  },
  {
   "cell_type": "code",
   "execution_count": 42,
   "metadata": {},
   "outputs": [
    {
     "data": {
      "text/plain": [
       "False    2228\n",
       "True      188\n",
       "Name: Style, dtype: int64"
      ]
     },
     "execution_count": 42,
     "metadata": {},
     "output_type": "execute_result"
    }
   ],
   "source": [
    "df.Style.isin([\"Witbier\", \"Hefeweizen\", \"American Pale Wheat Ale\"]).value_counts()\n"
   ]
  },
  {
   "cell_type": "code",
   "execution_count": 54,
   "metadata": {},
   "outputs": [],
   "source": [
    "df_wheat_beer = df[df.Style.isin([\"Witbier\", \"Hefeweizen\", \"American Pale Wheat Ale\"])]\n"
   ]
  },
  {
   "cell_type": "code",
   "execution_count": 60,
   "metadata": {},
   "outputs": [
    {
     "data": {
      "text/plain": [
       "18.982142857142858"
      ]
     },
     "execution_count": 60,
     "metadata": {},
     "output_type": "execute_result"
    }
   ],
   "source": [
    "df_wheat_beer = df_wheat_beer.dropna(subset=['IBUs'])\n",
    "df_wheat_beer.IBUs.mean()"
   ]
  },
  {
   "cell_type": "markdown",
   "metadata": {},
   "source": [
    "## Draw a histogram of the IBUs of those beers"
   ]
  },
  {
   "cell_type": "code",
   "execution_count": 62,
   "metadata": {},
   "outputs": [
    {
     "data": {
      "text/plain": [
       "<AxesSubplot:>"
      ]
     },
     "execution_count": 62,
     "metadata": {},
     "output_type": "execute_result"
    },
    {
     "data": {
      "image/png": "[encoded data removed]",
      "text/plain": [
       "<Figure size 432x288 with 1 Axes>"
      ]
     },
     "metadata": {
      "needs_background": "light"
     },
     "output_type": "display_data"
    }
   ],
   "source": [
    "df_wheat_beer.IBUs.hist(bins=30)"
   ]
  },
  {
   "cell_type": "markdown",
   "metadata": {},
   "source": [
    "## Get the average IBU of any style with \"IPA\" in it (also draw a histogram)"
   ]
  },
  {
   "cell_type": "code",
   "execution_count": 68,
   "metadata": {},
   "outputs": [
    {
     "data": {
      "text/plain": [
       "71.94897959183673"
      ]
     },
     "execution_count": 68,
     "metadata": {},
     "output_type": "execute_result"
    }
   ],
   "source": [
    "df[df.Style.str.contains(\"IPA\", na=False)][\"IBUs\"].mean()"
   ]
  },
  {
   "cell_type": "code",
   "execution_count": 69,
   "metadata": {},
   "outputs": [
    {
     "data": {
      "text/plain": [
       "<AxesSubplot:>"
      ]
     },
     "execution_count": 69,
     "metadata": {},
     "output_type": "execute_result"
    },
    {
     "data": {
      "image/png": "[encoded data removed]",
      "text/plain": [
       "<Figure size 432x288 with 1 Axes>"
      ]
     },
     "metadata": {
      "needs_background": "light"
     },
     "output_type": "display_data"
    }
   ],
   "source": [
    "df[df.Style.str.contains(\"IPA\", na=False)][\"IBUs\"].hist(bins=30)"
   ]
  },
  {
   "cell_type": "markdown",
   "metadata": {},
   "source": [
    "## Plot those two histograms on top of one another\n",
    "\n",
    "To plot two plots on top of one another, you *might* just be able to plot twice in the same cell. It depends on your version of pandas/matplotlib! If it doesn't work, you'll need do two steps.\n",
    "\n",
    "1. First, you make a plot using `plot` or `hist`, and you save it into a variable called `ax`.\n",
    "2. You draw your second graph using `plot` or `hist`, and send `ax=ax` to it as a parameter.\n",
    "\n",
    "It would look something like this:\n",
    "\n",
    "```python\n",
    "ax = df.plot(....)\n",
    "df.plot(ax=ax, ....)\n",
    "``` \n",
    "\n",
    "And then youull get two plots on top of each other. They won't be perfect because the bins won't line up without extra work, but it's fine!"
   ]
  },
  {
   "cell_type": "code",
   "execution_count": 71,
   "metadata": {},
   "outputs": [
    {
     "data": {
      "text/plain": [
       "<AxesSubplot:>"
      ]
     },
     "execution_count": 71,
     "metadata": {},
     "output_type": "execute_result"
    },
    {
     "data": {
      "image/png": "[encoded data removed]",
      "text/plain": [
       "<Figure size 432x288 with 1 Axes>"
      ]
     },
     "metadata": {
      "needs_background": "light"
     },
     "output_type": "display_data"
    }
   ],
   "source": [
    "df_wheat_beer.IBUs.hist(bins=30)\n",
    "df[df.Style.str.contains(\"IPA\", na=False)][\"IBUs\"].hist(bins=30)"
   ]
  },
  {
   "cell_type": "markdown",
   "metadata": {},
   "source": [
    "## Compare the ABV of wheat beers vs. IPAs : their IBUs were really different, but how about their alcohol percentage?\n",
    "\n",
    "Wheat beers might include witbier, hefeweizen, American Pale Wheat Ale, and anything else you think is wheaty. IPAs probably have \"IPA\" in their name."
   ]
  },
  {
   "cell_type": "code",
   "execution_count": 75,
   "metadata": {},
   "outputs": [
    {
     "data": {
      "text/plain": [
       "6.879285714285714"
      ]
     },
     "execution_count": 75,
     "metadata": {},
     "output_type": "execute_result"
    }
   ],
   "source": [
    "df[df.Style.str.contains(\"IPA\", na=False)][\"ABV\"].mean()"
   ]
  },
  {
   "cell_type": "code",
   "execution_count": 76,
   "metadata": {},
   "outputs": [
    {
     "data": {
      "text/plain": [
       "4.915178571428571"
      ]
     },
     "execution_count": 76,
     "metadata": {},
     "output_type": "execute_result"
    }
   ],
   "source": [
    "df_wheat_beer.ABV.mean()"
   ]
  },
  {
   "cell_type": "markdown",
   "metadata": {},
   "source": [
    "On average, the ABV of wheat beers is slightly lower than IPAs. "
   ]
  },
  {
   "cell_type": "markdown",
   "metadata": {
    "collapsed": true
   },
   "source": [
    "## Good work!\n",
    "\n",
    "For making it this far, your reward is my recommendation for Athletic Brewing Co.'s products as the best non-alcoholic beer on the market. Their Run Wild IPA and Upside Dawn are both very solid."
   ]
  },
  {
   "cell_type": "markdown",
   "metadata": {},
   "source": [
    "Would like to recommend the beer from my friend's micro-brewery in Singapore too: http://the1925.com.sg/our-beers/. Some go very well with Chinese (Teochew) cuisine. "
   ]
  }
 ],
 "metadata": {
  "kernelspec": {
   "display_name": "Python 3 (ipykernel)",
   "language": "python",
   "name": "python3"
  },
  "language_info": {
   "codemirror_mode": {
    "name": "ipython",
    "version": 3
   },
   "file_extension": ".py",
   "mimetype": "text/x-python",
   "name": "python",
   "nbconvert_exporter": "python",
   "pygments_lexer": "ipython3",
   "version": "3.10.3"
  }
 },
 "nbformat": 4,
 "nbformat_minor": 2
}
